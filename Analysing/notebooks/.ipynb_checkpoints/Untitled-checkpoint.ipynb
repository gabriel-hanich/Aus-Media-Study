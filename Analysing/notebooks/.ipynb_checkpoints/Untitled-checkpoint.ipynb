{
 "cells": [
  {
   "cell_type": "code",
   "execution_count": 26,
   "id": "cac1c886",
   "metadata": {},
   "outputs": [],
   "source": [
    "import csv\n",
    "import time\n",
    "import datetime\n",
    "from vaderSentiment.vaderSentiment import SentimentIntensityAnalyzer \n",
    "import json\n",
    "\n",
    "from flair.models import TextClassifier\n",
    "from flair.data import Sentence\n",
    "\n",
    "import sys\n",
    "sys.path.append('../') # Allows importing of local modules\n",
    "\n",
    "from lib.media import outlet, article\n",
    "from lib.data import getData, fileStringToDate"
   ]
  },
  {
   "cell_type": "code",
   "execution_count": 27,
   "id": "0c0a6b64",
   "metadata": {},
   "outputs": [
    {
     "name": "stdout",
     "output_type": "stream",
     "text": [
      "2022-01-26 20:50:19,260 loading file C:\\Users\\gabri\\.flair\\models\\sentiment-en-mix-distillbert_4.pt\n"
     ]
    }
   ],
   "source": [
    "# Constants\n",
    "dataVersion = 3\n",
    "analyser = SentimentIntensityAnalyzer()\n",
    "classifier = TextClassifier.load('en-sentiment')\n",
    "monthsDict = {\n",
    "    \"jan\": 1,\n",
    "    \"feb\": 2,\n",
    "    \"mar\": 3,\n",
    "    \"apr\": 4,\n",
    "    \"may\": 5,\n",
    "    \"jun\": 6,\n",
    "    \"jul\": 7,\n",
    "    \"aug\": 8,\n",
    "    \"sep\": 9,\n",
    "    \"oct\": 10,\n",
    "    \"nov\": 11,\n",
    "    \"dec\": 12\n",
    "}"
   ]
  },
  {
   "cell_type": "code",
   "execution_count": null,
   "id": "93bf7b38",
   "metadata": {},
   "outputs": [],
   "source": [
    "# Read available media outlets \n",
    "mediaFile = open(\"../Media Outlets.csv\", \"r\", encoding=\"utf-8\")\n",
    "mediaData = getData(mediaFile)\n",
    "mediaFile.close()\n",
    "\n",
    "print(str(len(mediaData)) + \" Outlets detected\")\n",
    "\n",
    "# Convert into classes\n",
    "outletsList = []\n",
    "for thisOutlet in mediaData:\n",
    "    outletsList.append(outlet(thisOutlet[0]))\n"
   ]
  },
  {
   "cell_type": "code",
   "execution_count": null,
   "id": "e63cb9ee",
   "metadata": {},
   "outputs": [],
   "source": [
    "def daterange(date1, date2): # Returns list of dates between 2 dates\n",
    "    for n in range(int ((date2 - date1).days)+1):\n",
    "        yield date1 + datetime.timedelta(n)\n",
    "\n",
    "def getSentiment(headline, analyser):\n",
    "    analyser.predict(Sentence(headline))\n",
    "    print(headlheadline.labels[0].label)\n",
    "    if headline.labels[0].label = \"NEGATIVE\":\n",
    "        return headline.labels[1] * -1\n",
    "    else:\n",
    "        return headline.labels[1]\n",
    "    #return score"
   ]
  },
  {
   "cell_type": "code",
   "execution_count": null,
   "id": "49075788",
   "metadata": {},
   "outputs": [],
   "source": []
  },
  {
   "cell_type": "code",
   "execution_count": null,
   "id": "82b182a2",
   "metadata": {},
   "outputs": [],
   "source": [
    "print(\"Running\")\n",
    "for outletIndex, thisOutlet in enumerate(outletsList):\n",
    "    earliestDate = datetime.datetime.fromtimestamp(time.time())\n",
    "    latestDate = datetime.datetime(2021, 1, 1)\n",
    "    outletDataFile = open(\"../data/\" + str(dataVersion) + \"/csv/\" + thisOutlet.name + \".csv\", \"r\", encoding='utf-8')\n",
    "    outletData = getData(outletDataFile)\n",
    "    outletDataFile.close()\n",
    "\n",
    "\n",
    "    articleList = []\n",
    "    for thisArticle in outletData:\n",
    "        thisDate = fileStringToDate(thisArticle[3], monthsDict)\n",
    "        thisDate = thisDate.replace(hour=0, minute=0)\n",
    "        if thisDate < earliestDate:\n",
    "            earliestDate = thisDate\n",
    "        if thisDate > latestDate:\n",
    "            latestDate = thisDate\n",
    "\n",
    "    dayDict = {}\n",
    "    for date in daterange(earliestDate, latestDate):\n",
    "        thisDate = date.strftime(\"%d/%m/%Y\")\n",
    "        dayDict[thisDate] = []\n",
    "        for thisHeadline in outletData:\n",
    "            if fileStringToDate(thisHeadline[3], monthsDict).replace(hour=0, minute=0).strftime(\"%d/%m/%Y\") == thisDate:\n",
    "                intensityScore = getSentiment(thisHeadline, analyser)\n",
    "                dayDict[thisDate].append({\"headline\": thisHeadline[0], \"description\": thisHeadline[1], \"author\":thisHeadline[2], \"intensityScore\":intensityScore})\n",
    "\n",
    "    with open(\"../data/\" + str(dataVersion) + \"/json/\" + thisOutlet.name + \".json\", \"w\", encoding='utf-8') as outletOutPutFile:\n",
    "        json.dump(dayDict, outletOutPutFile, indent=4, ensure_ascii=False)\n",
    "    print(str(outletIndex + 1) + \"/\" + str(len(outletsList)))"
   ]
  },
  {
   "cell_type": "code",
   "execution_count": null,
   "id": "24e5a342",
   "metadata": {},
   "outputs": [],
   "source": []
  }
 ],
 "metadata": {
  "kernelspec": {
   "display_name": "Python 3 (ipykernel)",
   "language": "python",
   "name": "python3"
  },
  "language_info": {
   "codemirror_mode": {
    "name": "ipython",
    "version": 3
   },
   "file_extension": ".py",
   "mimetype": "text/x-python",
   "name": "python",
   "nbconvert_exporter": "python",
   "pygments_lexer": "ipython3",
   "version": "3.9.7"
  }
 },
 "nbformat": 4,
 "nbformat_minor": 5
}
