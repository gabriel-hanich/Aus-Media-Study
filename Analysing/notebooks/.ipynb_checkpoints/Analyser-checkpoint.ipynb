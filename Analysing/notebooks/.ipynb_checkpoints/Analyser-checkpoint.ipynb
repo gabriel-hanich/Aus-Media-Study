{
 "cells": [
  {
   "cell_type": "code",
   "execution_count": 1,
   "id": "1b8a0dc6",
   "metadata": {},
   "outputs": [],
   "source": [
    "# Imports\n",
    "\n",
    "from pickle import FALSE\n",
    "import sys\n",
    "\n",
    "from nltk.tree import Tree\n",
    "\n",
    "\n",
    "import csv\n",
    "import datetime\n",
    "import time\n",
    "import json\n",
    "from collections import Counter\n",
    "\n",
    "import matplotlib.pyplot as plt\n",
    "\n",
    "from vaderSentiment.vaderSentiment import SentimentIntensityAnalyzer \n",
    "\n",
    "from nltk.corpus import stopwords\n",
    "from nltk.tokenize import word_tokenize\n",
    "from nltk import pos_tag\n",
    "\n",
    "sys.path.append('../')\n",
    "from lib.media import outlet, article\n",
    "from lib.data import getData, fileStringToDate"
   ]
  },
  {
   "cell_type": "code",
   "execution_count": 2,
   "id": "a324b464",
   "metadata": {},
   "outputs": [],
   "source": [
    "# Constants\n",
    "dataVersion = 1 # Which dataset is used by the analyser\n",
    "topicWordsCount = 3 # Amount of keywords stored per day"
   ]
  },
  {
   "cell_type": "code",
   "execution_count": 4,
   "id": "4b6c16b2",
   "metadata": {},
   "outputs": [],
   "source": [
    "# Load data\n",
    "with open(\"../Media Outlets.csv\", \"r\", encoding=\"utf-8\") as outletFile:\n",
    "    outletList = getData(outletFile)\n",
    "outlets = []\n",
    "for listOutlet in outletList:\n",
    "    outlets.append(outlet(listOutlet[0]))\n",
    "    \n",
    "for thisOutlet in outlets:\n",
    "    with open(\"../data/\" + str(dataVersion) + \"/json/\" + thisOutlet.name + \".json\") as dataFile:\n",
    "        outletData = json.load(dataFile)\n",
    "    outlet.articleList = outletData"
   ]
  },
  {
   "cell_type": "code",
   "execution_count": 5,
   "id": "1393d7e8",
   "metadata": {},
   "outputs": [],
   "source": [
    "# Get data for all the outlets \n",
    "outletFile = open(\"../Media Outlets.csv\", \"r\", encoding=\"utf-8\")\n",
    "outletsList = getData(outletFile)\n",
    "outletFile.close()\n",
    "\n",
    "earliestDate = datetime.datetime.fromtimestamp(time.time())\n",
    "latestDate =  datetime.datetime(2021, 1, 1, 0, 0, 0)"
   ]
  },
  {
   "cell_type": "code",
   "execution_count": 6,
   "id": "713f1fa3",
   "metadata": {},
   "outputs": [],
   "source": [
    "def daterange(date1, date2): # Returns list of dates between 2 dates\n",
    "    for n in range(int ((date2 - date1).days)+1):\n",
    "        yield date1 + datetime.timedelta(n)"
   ]
  },
  {
   "cell_type": "code",
   "execution_count": 8,
   "id": "3d80e891",
   "metadata": {},
   "outputs": [
    {
     "name": "stdout",
     "output_type": "stream",
     "text": [
      "Data Loaded\n"
     ]
    }
   ],
   "source": [
    "# Convert JSON data to python classes\n",
    "outletList = []\n",
    "for outletsIndex, outlets in enumerate(outletsList):\n",
    "    thisOutletFile = open(\"../data/\" + str(dataVersion) + \"/json/\" + outlets[0] + \".json\", \"r\", encoding=\"utf-8\")\n",
    "    thisOutletData = json.load(thisOutletFile)\n",
    "    thisOutletFile.close()\n",
    "    thisOutlet = outlet(thisOutletData[\"name\"])\n",
    "    outletList.append(thisOutlet)\n",
    "    \n",
    "    for articleDict in thisOutletData[\"articles\"]:\n",
    "        # Calculate earliest and latest dates an article was written\n",
    "        articleDate = datetime.datetime.fromtimestamp(articleDict[\"date\"])\n",
    "        if articleDate < earliestDate:\n",
    "            earliestDate = articleDate\n",
    "        if articleDate > latestDate:\n",
    "            latestDate = articleDate\n",
    "\n",
    "        thisArticle = article(articleDict[\"headline\"], articleDict[\"description\"], articleDict[\"author\"], articleDate, articleDict[\"intensityScore\"])\n",
    "        thisOutlet.addArticle(thisArticle)\n",
    "\n",
    "print(\"Data Loaded\")"
   ]
  },
  {
   "cell_type": "code",
   "execution_count": 9,
   "id": "a9694e4e",
   "metadata": {},
   "outputs": [],
   "source": [
    "# User Settings\n",
    "doAutoEarlyDates = False # (Dis/En) able automatic date searching \n",
    "doPOSTagging = False # (Dis/En) able POS tagging (Parts of Speech)\n",
    "doTitleWordsSearch = False # (Dis/En) able only analysing articles with certain keywords in the title\n",
    "doAllOutlets = True # Use the data from all or only a select few outlets\n",
    "doAnnotateChart = False # (Dis/En) able having most common word present on chart\n",
    "doIndividualPlots = False #(Dis/En) able having each media outlet on its on graph\n",
    "\n",
    "setEarlyDate = datetime.datetime(2021, 9, 25) # YYYY,MM,DD\n",
    "setLateDate = datetime.datetime(2021, 10, 10) # YYYY,MM,DD\n",
    "\n",
    "selectedOutlets = [\"ABC News\"]\n",
    "wantedTitleWords = [\"john\", \"barilaro\", \"bruz\"] # All terms MUST be in lowercase\n",
    "wantedPOS = [\"NN\", \"NNS\", \"NNP\", \"NNPS\", ]\n",
    "\n",
    "stopWords = stopwords.words(\"english\") "
   ]
  },
  {
   "cell_type": "code",
   "execution_count": 10,
   "id": "de228776",
   "metadata": {},
   "outputs": [],
   "source": [
    "if doAutoEarlyDates == False:\n",
    "    earliestDate = setEarlyDate\n",
    "    latestDate = setLateDate\n",
    "\n",
    "earliestDate = earliestDate.replace(hour=0, minute=0)\n",
    "latestDate = latestDate.replace(hour=0, minute=0)"
   ]
  },
  {
   "cell_type": "code",
   "execution_count": 11,
   "id": "cf2d962e",
   "metadata": {},
   "outputs": [
    {
     "name": "stdout",
     "output_type": "stream",
     "text": [
      "1/10\n",
      "2/10\n",
      "3/10\n",
      "4/10\n",
      "5/10\n",
      "6/10\n",
      "7/10\n",
      "8/10\n",
      "9/10\n",
      "10/10\n"
     ]
    }
   ],
   "source": [
    "# Get dayDict for each outlet\n",
    "for mediaIndex, mediaOutlet in enumerate(outletList):\n",
    "    excludedCount = 0 # Counter that tracks how many articles are excluded due to search parameters\n",
    "    dayDict = {}\n",
    "    for date in daterange(earliestDate, latestDate):\n",
    "        dayDict[date] = {}\n",
    "        dayDict[date][\"articles\"] = []\n",
    "\n",
    "    for article in mediaOutlet.articleList:\n",
    "        articleDate = article.date.replace(hour=0, minute=0)\n",
    "        try:\n",
    "            if doTitleWordsSearch: # If scanning for words in title\n",
    "                for word in word_tokenize(article.headline):\n",
    "                    if word.lower() in wantedTitleWords: # If title contains wanted word\n",
    "                        dayDict[articleDate][\"articles\"].append(article)\n",
    "                        break\n",
    "            else:\n",
    "                dayDict[articleDate][\"articles\"].append(article)\n",
    "\n",
    "        except KeyError: # Runs if article was made on day not included in search\n",
    "            excludedCount += 1\n",
    "\n",
    "    # Get average sentiment for day\n",
    "    for date in list(dayDict.keys()):\n",
    "        totalSentiment = 0\n",
    "        for articleIndex, article in enumerate(dayDict[date][\"articles\"]):\n",
    "            totalSentiment += article.sentimentScore\n",
    "        try:\n",
    "            dayDict[date][\"avgSentiment\"] = totalSentiment / len(dayDict[date][\"articles\"])\n",
    "        except ZeroDivisionError:\n",
    "            dayDict[date][\"avgSentiment\"] = 0\n",
    "\n",
    "    # Get keywords for day\n",
    "    for dateIndex, date in enumerate(list(dayDict.keys())):\n",
    "        articleWords = []\n",
    "        for article in dayDict[date][\"articles\"]:\n",
    "            for word in word_tokenize(article.headline):\n",
    "                articleWords.append(word)\n",
    "\n",
    "        articleWords = Counter(articleWords).most_common() # Start with the most common words and work down until enough matches are found\n",
    "        filteredWords = []\n",
    "        for word in articleWords:\n",
    "            if len(filteredWords) == topicWordsCount:\n",
    "                break\n",
    "            else:\n",
    "                if word[0].lower() not in stopWords:\n",
    "                    if len(word[0]) > 2:\n",
    "                        if doPOSTagging:\n",
    "                            if pos_tag([word[0]])[0][1] in wantedPOS:\n",
    "                                filteredWords.append(word[0])\n",
    "                        else:\n",
    "                            filteredWords.append(word[0])\n",
    "        filteredWords = list(Counter(filteredWords).most_common(topicWordsCount))\n",
    "        dayDict[date][\"topicWords\"] = filteredWords\n",
    "        if doPOSTagging:\n",
    "            print(str(dateIndex) + \"/\" + str(len(list(dayDict.keys()))))\n",
    "    mediaOutlet.setDayDict(dayDict)\n",
    "\n",
    "    print(str(mediaIndex + 1) + \"/\" + str(len(outletList)))\n"
   ]
  },
  {
   "cell_type": "code",
   "execution_count": 26,
   "id": "779fd747",
   "metadata": {},
   "outputs": [
    {
     "data": {
      "image/png": "[encoded data removed]",
      "text/plain": [
       "<Figure size 432x288 with 1 Axes>"
      ]
     },
     "metadata": {
      "needs_background": "light"
     },
     "output_type": "display_data"
    }
   ],
   "source": [
    "# Plot daily article Count\n",
    "for mediaOutlet in outletList:\n",
    "    yList = []\n",
    "    compareList = []\n",
    "    for date in list(mediaOutlet.dayDict.keys()):\n",
    "        yVal = len(mediaOutlet.dayDict[date][\"articles\"])\n",
    "        yList.append(yVal)\n",
    "    plt.plot(list(mediaOutlet.dayDict.keys()), yList, label=mediaOutlet.name)\n",
    "    if doIndividualPlots:\n",
    "        plt.legend()\n",
    "        plt.ylim(-1, 1)\n",
    "        plt.show()\n",
    "\n",
    "\n",
    "if not doIndividualPlots:\n",
    "    if len(compareList) != 0: \n",
    "        plt.plot(list(mediaOutlet.dayDict.keys()), compareList, label=\"Neutral\")\n",
    "    #plt.ylim(-1, 1)\n",
    "    plt.savefig(\"../graphs/dailyArticles.png\", dpi=500, format=None, metadata=None)\n",
    "    plt.legend()\n",
    "    plt.savefig(\"../graphs/dailyArticlesLegend.png\", dpi=500, format=None, metadata=None)\n",
    "    plt.show()"
   ]
  },
  {
   "cell_type": "code",
   "execution_count": null,
   "id": "75cf93db",
   "metadata": {},
   "outputs": [],
   "source": []
  },
  {
   "cell_type": "code",
   "execution_count": null,
   "id": "8017b8ad",
   "metadata": {},
   "outputs": [],
   "source": []
  }
 ],
 "metadata": {
  "kernelspec": {
   "display_name": "Python 3 (ipykernel)",
   "language": "python",
   "name": "python3"
  },
  "language_info": {
   "codemirror_mode": {
    "name": "ipython",
    "version": 3
   },
   "file_extension": ".py",
   "mimetype": "text/x-python",
   "name": "python",
   "nbconvert_exporter": "python",
   "pygments_lexer": "ipython3",
   "version": "3.9.7"
  }
 },
 "nbformat": 4,
 "nbformat_minor": 5
}
