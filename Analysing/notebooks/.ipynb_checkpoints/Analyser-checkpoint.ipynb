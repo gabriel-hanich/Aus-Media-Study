{
 "cells": [
  {
   "cell_type": "markdown",
   "id": "9ad64747",
   "metadata": {},
   "source": [
    "# Media Analyser - By Gabriel Hanich"
   ]
  },
  {
   "cell_type": "code",
   "execution_count": 1,
   "id": "1b8a0dc6",
   "metadata": {},
   "outputs": [],
   "source": [
    "# Imports\n",
    "import json\n",
    "from collections import Counter\n",
    "import matplotlib.pyplot as plt\n",
    "from datetime import date, datetime\n",
    "import datetime as dt\n",
    "\n",
    "from nltk.tokenize import word_tokenize\n",
    "from nltk.corpus import stopwords\n",
    "from nltk.util import pr\n",
    "\n",
    "import sys\n",
    "sys.path.append('../') # Allows importing of local modules\n",
    "\n",
    "from lib.data import getData\n",
    "from lib.media import outlet, article"
   ]
  },
  {
   "cell_type": "code",
   "execution_count": 2,
   "id": "319c5579",
   "metadata": {},
   "outputs": [],
   "source": [
    "%matplotlib qt"
   ]
  },
  {
   "cell_type": "code",
   "execution_count": 3,
   "id": "a324b464",
   "metadata": {},
   "outputs": [],
   "source": [
    "# Constants\n",
    "dataVersion = 2\n",
    "stopwords = stopwords.words(\"english\")"
   ]
  },
  {
   "cell_type": "code",
   "execution_count": 4,
   "id": "4b6c16b2",
   "metadata": {},
   "outputs": [],
   "source": [
    "def daterange(date1, date2): # Returns list of dates between 2 dates\n",
    "    for n in range(int((date2 - date1).days)+1):\n",
    "        yield date1 + dt.timedelta(n)"
   ]
  },
  {
   "cell_type": "code",
   "execution_count": 5,
   "id": "1393d7e8",
   "metadata": {},
   "outputs": [],
   "source": [
    "with open(\"../Media Outlets.csv\") as outletsFile: # Get list of outlets\n",
    "    outletsData = getData(outletsFile)\n",
    "\n",
    "outlets = []\n",
    "for thisOutlet in outletsData:\n",
    "    outlets.append(outlet(thisOutlet[0]))\n",
    "\n",
    "    with open(\"../data/\" + str(dataVersion) + \"/json/\" + thisOutlet[0] + \".json\", encoding=\"utf-8\") as dataFile:\n",
    "        outlets[-1].setDayDict(json.load(dataFile)) # Write daydict to outlet Object"
   ]
  },
  {
   "cell_type": "code",
   "execution_count": 6,
   "id": "713f1fa3",
   "metadata": {},
   "outputs": [],
   "source": [
    "def getXYVals(thisOutlet, statType, startDate, endDate, titleSearchWords, commonWordCount):\n",
    "    # Returns a list containing the x, y and z (annotation) for a given media outlet\n",
    "    xVals = []\n",
    "    yVals = []\n",
    "    zVals = []\n",
    "    for myDate in list(daterange(startDate, endDate)): # For every date between the given start and end date\n",
    "        try:\n",
    "            articleCount = 0\n",
    "            avgSentiment = 0\n",
    "            commonWords = []\n",
    "            totalWords = []\n",
    "            for articleIndex, article in enumerate(thisOutlet.dayDict[myDate.strftime(\"%d/%m/%Y\")]):\n",
    "                # If there are no title search words OR title contains wanted word\n",
    "                if titleSearchWords == [] or set(titleSearchWords).intersection(word_tokenize(article[\"headline\"].lower())):\n",
    "                    articleCount += 1\n",
    "                    avgSentiment += article[\"intensityScore\"]\n",
    "                    for word in word_tokenize(article[\"headline\"]):\n",
    "                        if len(word) > 2:\n",
    "                            if word.lower() not in stopwords:\n",
    "                                totalWords.append(str(word))\n",
    "\n",
    "            commonWords = Counter(totalWords).most_common(commonWordCount)\n",
    "            # Append data depending on chosen chart type        \n",
    "            if statType == \"articleCount\":\n",
    "                yVals.append(articleCount)\n",
    "            elif statType == \"avgSentiment\":\n",
    "                try:\n",
    "                    yVals.append(avgSentiment / articleCount)\n",
    "                except ZeroDivisionError:\n",
    "                    yVals.append(0)\n",
    "            elif statType  == \"commonWords\":\n",
    "                yVals.append(articleCount)\n",
    "                zVals.append(commonWords)\n",
    "\n",
    "            xVals.append(myDate)\n",
    "        except KeyError: # In case outlet has no articles published on that date (Returns empty lists)\n",
    "            pass\n",
    "    return xVals, yVals, zVals"
   ]
  },
  {
   "cell_type": "code",
   "execution_count": 13,
   "id": "3d80e891",
   "metadata": {},
   "outputs": [],
   "source": [
    "# User settings\n",
    "startingDate = \"13/9/2021\"\n",
    "endDate = \"23/01/2022\"\n",
    "\n",
    "doSetDates = True # Whether to use user-specified dates\n",
    "doSetOutlets = False # Whether to limit search to a set of outlets\n",
    "commonWordCount = 1 # How many common words per day are displayed\n",
    "doTotalOutlets = False # Whether to take the outlets as a total\n",
    "titleSearchWords = [] # Only include articles with headlines containing these words (Leave BLANK to disable)\n",
    "setOutlets = [\"ABC News\"] # Only include a set of outlets\n",
    "chartType = \"articleCount\" # Type of chart to make"
   ]
  },
  {
   "cell_type": "code",
   "execution_count": 14,
   "id": "ed865c88",
   "metadata": {},
   "outputs": [],
   "source": [
    "startingDate = datetime.strptime(startingDate, \"%d/%m/%Y\")\n",
    "endDate = datetime.strptime(endDate, \"%d/%m/%Y\")"
   ]
  },
  {
   "cell_type": "code",
   "execution_count": 15,
   "id": "774ccb22",
   "metadata": {},
   "outputs": [],
   "source": [
    "# Do Total outlets\n",
    "if doTotalOutlets:\n",
    "    totalOutlet = outlet(\"Total\")\n",
    "    thisDayDict = {}\n",
    "    for date in daterange(startingDate, endDate):\n",
    "        strDate = datetime.strftime(date, \"%d/%m/%Y\")\n",
    "        thisArticleList = []\n",
    "        for mediaOutlet in outlets:\n",
    "            try:\n",
    "                for articleIndex, article in enumerate(mediaOutlet.dayDict[strDate]):\n",
    "                    thisArticleList.append(article)\n",
    "            except KeyError:\n",
    "                pass\n",
    "        if len(thisArticleList) != 0:\n",
    "            thisDayDict[strDate] = thisArticleList\n",
    "    totalOutlet.setDayDict(thisDayDict)"
   ]
  },
  {
   "cell_type": "code",
   "execution_count": 16,
   "id": "a9694e4e",
   "metadata": {},
   "outputs": [],
   "source": [
    "if doSetOutlets:\n",
    "    # Trim down outlet list to only include those chosen\n",
    "    newOutlets = []\n",
    "    for outlet in outlets:\n",
    "        if outlet.name in setOutlets:\n",
    "            newOutlets.append(outlet)\n",
    "    setOutlets = newOutlets\n"
   ]
  },
  {
   "cell_type": "code",
   "execution_count": 17,
   "id": "9b3358b0",
   "metadata": {},
   "outputs": [],
   "source": [
    "if doTotalOutlets:\n",
    "    plotOutlets = [totalOutlet]\n",
    "elif doSetOutlets:\n",
    "    plotOutlets = setOutlets\n",
    "else:\n",
    "    plotOutlets = outlets"
   ]
  },
  {
   "cell_type": "code",
   "execution_count": 18,
   "id": "1500dffb",
   "metadata": {},
   "outputs": [
    {
     "data": {
      "text/plain": [
       "<matplotlib.legend.Legend at 0x277dfaa5250>"
      ]
     },
     "execution_count": 18,
     "metadata": {},
     "output_type": "execute_result"
    }
   ],
   "source": [
    "# Plot data \n",
    "fig, ax = plt.subplots(1)\n",
    "ax.set_title(chartType)\n",
    "\n",
    "for mediaOutlet in plotOutlets:\n",
    "    try:\n",
    "        if not doSetDates:\n",
    "            startingDate = list(mediaOutlet.dayDict.keys())[0] # Get date of first article\n",
    "            endDate = list(mediaOutlet.dayDict.keys())[-1] # Get date of last article\n",
    "\n",
    "            startingDate = datetime.strptime(startingDate, \"%d/%m/%Y\")\n",
    "            endDate = datetime.strptime(endDate, \"%d/%m/%Y\")\n",
    "\n",
    "    except IndexError:\n",
    "        continue\n",
    "    \n",
    "    doMultiCategories = False\n",
    "    if len(titleSearchWords) != 0:\n",
    "        if type(titleSearchWords[0]) == list:\n",
    "            doMultiCategories = True\n",
    "            for searchList in titleSearchWords:\n",
    "                xVals, yVals, zVals = getXYVals(mediaOutlet, chartType, startingDate, endDate, searchList, commonWordCount)\n",
    "\n",
    "\n",
    "                ax.plot(xVals, yVals, label=mediaOutlet.name + \" \" + str(searchList))  \n",
    "\n",
    "                if len(zVals) != 0: # If there are annotations present\n",
    "                    for dayIndex, dayPoint in enumerate(zVals):\n",
    "                        for i in range(len(dayPoint)):\n",
    "                            ax.annotate(dayPoint[i][0], (xVals[dayIndex], yVals[dayIndex] - i))\n",
    "    if not doMultiCategories:\n",
    "        xVals, yVals, zVals = getXYVals(mediaOutlet, chartType, startingDate, endDate, titleSearchWords, commonWordCount)\n",
    "        ax.plot(xVals, yVals, label=mediaOutlet.name)  \n",
    "\n",
    "        if len(zVals) != 0: # If there are annotations present\n",
    "            for dayIndex, dayPoint in enumerate(zVals):\n",
    "                for i in range(len(dayPoint)):\n",
    "                    ax.annotate(dayPoint[i][0], (xVals[dayIndex], yVals[dayIndex] - i))\n",
    "        \n",
    "ax.legend()"
   ]
  },
  {
   "cell_type": "code",
   "execution_count": null,
   "id": "b07729b8",
   "metadata": {},
   "outputs": [],
   "source": []
  }
 ],
 "metadata": {
  "kernelspec": {
   "display_name": "Python 3 (ipykernel)",
   "language": "python",
   "name": "python3"
  },
  "language_info": {
   "codemirror_mode": {
    "name": "ipython",
    "version": 3
   },
   "file_extension": ".py",
   "mimetype": "text/x-python",
   "name": "python",
   "nbconvert_exporter": "python",
   "pygments_lexer": "ipython3",
   "version": "3.9.7"
  }
 },
 "nbformat": 4,
 "nbformat_minor": 5
}
