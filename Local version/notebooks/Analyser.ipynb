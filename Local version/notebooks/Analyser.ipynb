{
 "cells": [
  {
   "cell_type": "code",
   "execution_count": 1,
   "id": "21b5d513",
   "metadata": {},
   "outputs": [],
   "source": [
    "# Imports\n",
    "import sys\n",
    "sys.path.append('../')\n",
    "\n",
    "import csv\n",
    "import datetime\n",
    "import time\n",
    "from vaderSentiment.vaderSentiment import SentimentIntensityAnalyzer \n",
    "import json\n",
    "import matplotlib.pyplot as plt\n",
    "\n",
    "from lib.media import outlet, article\n",
    "from lib.data import getData, fileStringToDate"
   ]
  },
  {
   "cell_type": "code",
   "execution_count": 2,
   "id": "859bc884",
   "metadata": {},
   "outputs": [],
   "source": [
    "# Constants\n",
    "dataVersion = 1\n",
    "doAutoEarlyDates = False\n",
    "\n",
    "setEarlyDate = datetime.datetime(2021, 9, 15)\n",
    "setLateDate = datetime.datetime(2021, 12, 2)"
   ]
  },
  {
   "cell_type": "code",
   "execution_count": null,
   "id": "86fc8274",
   "metadata": {},
   "outputs": [],
   "source": [
    "def daterange(date1, date2): # Returns list of dates between 2 dates\n",
    "    for n in range(int ((date2 - date1).days)+1):\n",
    "        yield date1 + datetime.timedelta(n)"
   ]
  },
  {
   "cell_type": "code",
   "execution_count": 3,
   "id": "d6991e72",
   "metadata": {},
   "outputs": [],
   "source": [
    "# Get data for all the outlets \n",
    "outletFile = open(\"Media Outlets.csv\", \"r\", encoding=\"utf-8\")\n",
    "outletsList = getData(outletFile)\n",
    "outletFile.close()\n",
    "\n",
    "earliestDate = datetime.datetime.fromtimestamp(time.time())\n",
    "latestDate =  datetime.datetime(2021, 1, 1, 0, 0, 0)"
   ]
  },
  {
   "cell_type": "code",
   "execution_count": 4,
   "id": "a7e0c04b",
   "metadata": {},
   "outputs": [],
   "source": [
    "# Convert JSON data to python classes\n",
    "outletList = []\n",
    "for outletsIndex, outlets in enumerate(outletsList):\n",
    "    thisOutletFile = open(\"data/\" + str(dataVersion) + \"/json/\" + outlets[0] + \".json\", \"r\", encoding=\"utf-8\")\n",
    "    thisOutletData = json.load(thisOutletFile)\n",
    "    thisOutletFile.close()\n",
    "    thisOutlet = outlet(thisOutletData[\"name\"])\n",
    "    outletList.append(thisOutlet)\n",
    "    \n",
    "    for articleDict in thisOutletData[\"articles\"]:\n",
    "        # Calculate earliest and latest dates an article was written\n",
    "        articleDate = datetime.datetime.fromtimestamp(articleDict[\"date\"])\n",
    "        if articleDate < earliestDate:\n",
    "            earliestDate = articleDate\n",
    "        if articleDate > latestDate:\n",
    "            latestDate = articleDate\n",
    "\n",
    "        thisArticle = article(articleDict[\"headline\"], articleDict[\"description\"], articleDict[\"author\"], articleDate, articleDict[\"intensityScore\"])\n",
    "        thisOutlet.addArticle(thisArticle)\n"
   ]
  },
  {
   "cell_type": "code",
   "execution_count": null,
   "id": "a284641f",
   "metadata": {},
   "outputs": [],
   "source": [
    "if doAutoEarlyDates == False:\n",
    "    earliestDate = setEarlyDate\n",
    "    latestDate = setLateDate\n",
    "\n",
    "earliestDate = earliestDate.replace(hour=0, minute=0)\n",
    "latestDate = latestDate.replace(hour=0, minute=0)\n"
   ]
  },
  {
   "cell_type": "code",
   "execution_count": null,
   "id": "e00cbc78",
   "metadata": {},
   "outputs": [],
   "source": [
    "# Get dayDict for each outlet\n",
    "for mediaOutlet in outletList:\n",
    "    excludedCount = 0 # Counter that tracks how many articles are excluded due to search parameters\n",
    "    dayFreqDict = {}\n",
    "    for date in daterange(earliestDate, latestDate):\n",
    "        dayFreqDict[date] = {}\n",
    "        dayFreqDict[date][\"articles\"] = []\n",
    "    \n",
    "    for article in mediaOutlet.articleList:\n",
    "        articleDate = article.date.replace(hour=0, minute=0)\n",
    "        try:\n",
    "            dayFreqDict[articleDate][\"articles\"].append(article)\n",
    "        except KeyError:\n",
    "            excludedCount += 1\n",
    "    \n",
    "    for date in list(dayFreqDict.keys()):\n",
    "        totalSentiment = 0\n",
    "        for articleIndex, article in enumerate(dayFreqDict[date][\"articles\"]):\n",
    "            totalSentiment += article.sentimentScore\n",
    "        try:\n",
    "            dayFreqDict[date][\"avgSentiment\"] = totalSentiment / articleIndex\n",
    "        except ZeroDivisionError:\n",
    "            dayFreqDict[date][\"avgSentiment\"] = 0\n",
    "\n",
    "    mediaOutlet.setDayDict(dayFreqDict)\n"
   ]
  }
 ],
 "metadata": {
  "kernelspec": {
   "display_name": "Python 3 (ipykernel)",
   "language": "python",
   "name": "python3"
  },
  "language_info": {
   "codemirror_mode": {
    "name": "ipython",
    "version": 3
   },
   "file_extension": ".py",
   "mimetype": "text/x-python",
   "name": "python",
   "nbconvert_exporter": "python",
   "pygments_lexer": "ipython3",
   "version": "3.9.8"
  }
 },
 "nbformat": 4,
 "nbformat_minor": 5
}
