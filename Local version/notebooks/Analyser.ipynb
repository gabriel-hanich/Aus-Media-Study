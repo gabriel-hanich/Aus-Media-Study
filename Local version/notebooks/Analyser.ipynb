{
 "cells": [
  {
   "cell_type": "code",
   "execution_count": 1,
   "id": "21b5d513",
   "metadata": {},
   "outputs": [],
   "source": [
    "# Imports\n",
    "import sys\n",
    "sys.path.append('../')\n",
    "\n",
    "import csv\n",
    "import datetime\n",
    "from vaderSentiment.vaderSentiment import SentimentIntensityAnalyzer \n",
    "import json\n",
    "\n",
    "from lib.media import outlet, article\n",
    "from lib.data import getData, fileStringToDate"
   ]
  },
  {
   "cell_type": "code",
   "execution_count": 2,
   "id": "859bc884",
   "metadata": {},
   "outputs": [],
   "source": [
    "# Constants\n",
    "dataVersion = 1"
   ]
  },
  {
   "cell_type": "code",
   "execution_count": 3,
   "id": "d6991e72",
   "metadata": {},
   "outputs": [],
   "source": [
    "# Get data for all the outlets \n",
    "outletFile = open(\"../Media Outlets.csv\", \"r\", encoding=\"utf-8\")\n",
    "outletsList = getData(outletFile)\n",
    "outletFile.close()"
   ]
  },
  {
   "cell_type": "code",
   "execution_count": 4,
   "id": "a7e0c04b",
   "metadata": {},
   "outputs": [],
   "source": [
    "outletList = []\n",
    "for outletsIndex, outlets in enumerate(outletsList):\n",
    "    thisOutletFile = open(\"../data/\" + str(dataVersion) + \"/json/\" + outlets[0] + \".json\", \"r\", encoding=\"utf-8\")\n",
    "    thisOutletData = json.load(thisOutletFile)\n",
    "    thisOutletFile.close()\n",
    "    thisOutlet = outlet(thisOutletData[\"name\"])\n",
    "    outletList.append(thisOutlet)\n",
    "    \n",
    "    for articleDict in thisOutletData[\"articles\"]:\n",
    "        articleDate = datetime.datetime.fromtimestamp(articleDict[\"date\"])\n",
    "        thisArticle = article(articleDict[\"headline\"], articleDict[\"description\"], articleDict[\"author\"], articleDate, articleDict[\"intensityScore\"])\n",
    "        thisOutlet.addArticle(thisArticle)\n"
   ]
  }
 ],
 "metadata": {
  "kernelspec": {
   "display_name": "Python 3 (ipykernel)",
   "language": "python",
   "name": "python3"
  },
  "language_info": {
   "codemirror_mode": {
    "name": "ipython",
    "version": 3
   },
   "file_extension": ".py",
   "mimetype": "text/x-python",
   "name": "python",
   "nbconvert_exporter": "python",
   "pygments_lexer": "ipython3",
   "version": "3.9.8"
  }
 },
 "nbformat": 4,
 "nbformat_minor": 5
}
